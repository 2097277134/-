{
 "cells": [
  {
   "cell_type": "code",
   "execution_count": 1,
   "metadata": {},
   "outputs": [
    {
     "ename": "ModuleNotFoundError",
     "evalue": "No module named 'imutils'",
     "output_type": "error",
     "traceback": [
      "\u001b[0;31m---------------------------------------------------------------------------\u001b[0m",
      "\u001b[0;31mModuleNotFoundError\u001b[0m                       Traceback (most recent call last)",
      "\u001b[1;32md:\\飞控\\flyzhu\\数字识别\\距离.ipynb Cell 1'\u001b[0m in \u001b[0;36m<module>\u001b[0;34m\u001b[0m\n\u001b[1;32m      <a href='vscode-notebook-cell:/d%3A/%E9%A3%9E%E6%8E%A7/flyzhu/%E6%95%B0%E5%AD%97%E8%AF%86%E5%88%AB/%E8%B7%9D%E7%A6%BB.ipynb#ch0000000?line=0'>1</a>\u001b[0m \u001b[39m# import the necessary packages\u001b[39;00m\n\u001b[0;32m----> <a href='vscode-notebook-cell:/d%3A/%E9%A3%9E%E6%8E%A7/flyzhu/%E6%95%B0%E5%AD%97%E8%AF%86%E5%88%AB/%E8%B7%9D%E7%A6%BB.ipynb#ch0000000?line=1'>2</a>\u001b[0m \u001b[39mfrom\u001b[39;00m \u001b[39mimutils\u001b[39;00m \u001b[39mimport\u001b[39;00m paths\n\u001b[1;32m      <a href='vscode-notebook-cell:/d%3A/%E9%A3%9E%E6%8E%A7/flyzhu/%E6%95%B0%E5%AD%97%E8%AF%86%E5%88%AB/%E8%B7%9D%E7%A6%BB.ipynb#ch0000000?line=2'>3</a>\u001b[0m \u001b[39mimport\u001b[39;00m \u001b[39mnumpy\u001b[39;00m \u001b[39mas\u001b[39;00m \u001b[39mnp\u001b[39;00m\n\u001b[1;32m      <a href='vscode-notebook-cell:/d%3A/%E9%A3%9E%E6%8E%A7/flyzhu/%E6%95%B0%E5%AD%97%E8%AF%86%E5%88%AB/%E8%B7%9D%E7%A6%BB.ipynb#ch0000000?line=3'>4</a>\u001b[0m \u001b[39mimport\u001b[39;00m \u001b[39mimutils\u001b[39;00m\n",
      "\u001b[0;31mModuleNotFoundError\u001b[0m: No module named 'imutils'"
     ]
    }
   ],
   "source": [
    "# import the necessary packages\n",
    "from imutils import paths\n",
    "import numpy as np\n",
    "import imutils\n",
    "import cv2\n",
    " \n",
    "def find_marker(image):\n",
    "    # convert the image to grayscale, blur it, and detect edges\n",
    "    gray = cv2.cvtColor(image, cv2.COLOR_BGR2GRAY)\n",
    "    gray = cv2.GaussianBlur(gray, (5, 5), 0)\n",
    "    edged = cv2.Canny(gray, 35, 125)\n",
    " \n",
    "    # find the contours in the edged image and keep the largest one;\n",
    "    # we'll assume that this is our piece of paper in the image\n",
    "    cnts = cv2.findContours(edged.copy(), cv2.RETR_LIST, cv2.CHAIN_APPROX_SIMPLE)\n",
    "    cnts = imutils.grab_contours(cnts)\n",
    "    c = max(cnts, key = cv2.contourArea)\n",
    "    # compute the bounding box of the of the paper region and return it\n",
    "    return cv2.minAreaRect(c),edged\n",
    "def distance_to_camera(knownDistance, focalLength, perWidth):\n",
    "    # compute and return the distance from the maker to the camera\n",
    "    return  (perWidth * knownDistance)/ focalLength    \n",
    "# initialize the known distance from the camera to the object, which\n",
    "# in this case is 24 inches\n",
    "KNOWN_DISTANCE = 10\n",
    " \n",
    "# initialize the known object width, which in this case, the piece of\n",
    "# paper is 12 inches wide\n",
    "KNOWN_WIDTH = 4\n",
    " \n",
    "# load the furst image that contains an object that is KNOWN TO BE 2 feet\n",
    "# from our camera, then find the paper marker in the image, and initialize\n",
    "# the focal length\n",
    "cap = cv2.VideoCapture(0)\n",
    "while True:\n",
    "    ret, image=cap.read()\n",
    "    marker,edged = find_marker(image)\n",
    "    width=distance_to_camera(KNOWN_DISTANCE,500,marker[1][0])\n",
    "    focalLength = (marker[1][0] * KNOWN_DISTANCE) / KNOWN_WIDTH\n",
    "    box = cv2.cv.BoxPoints(marker) if imutils.is_cv2() else cv2.boxPoints(marker)\n",
    "    box = np.int0(box)\n",
    "    cv2.drawContours(image, [box], -1, (0, 255, 0), 2)\n",
    "    cv2.putText(image, \"%.2fft\" % width,\n",
    "        (image.shape[1] - 200, image.shape[0] - 20), cv2.FONT_HERSHEY_SIMPLEX,\n",
    "        2.0, (0, 255, 0), 3)\n",
    "    newEdges = cv2.cvtColor(edged, cv2.COLOR_GRAY2BGR)\n",
    "    newFrame = np.hstack((image,newEdges))     \n",
    "    cv2.imshow('image', newFrame)\n",
    "    if cv2.waitKey(1)==27:\n",
    "        break\n",
    "\n",
    "    print (\"\\r {}\".format(width),end = \"\")\n",
    "cap.release()\n",
    "cv2.destroyAllWindows()"
   ]
  }
 ],
 "metadata": {
  "interpreter": {
   "hash": "95d50a5c078e45808b0310509146bdfa25d1e01a1940ba5c1a212b3c73de28e0"
  },
  "kernelspec": {
   "display_name": "Python 3 (ipykernel)",
   "language": "python",
   "name": "python3"
  },
  "language_info": {
   "codemirror_mode": {
    "name": "ipython",
    "version": 3
   },
   "file_extension": ".py",
   "mimetype": "text/x-python",
   "name": "python",
   "nbconvert_exporter": "python",
   "pygments_lexer": "ipython3",
   "version": "3.9.10"
  },
  "orig_nbformat": 4
 },
 "nbformat": 4,
 "nbformat_minor": 2
}
